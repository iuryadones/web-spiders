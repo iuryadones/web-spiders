{
 "cells": [
  {
   "cell_type": "code",
   "execution_count": 1,
   "metadata": {
    "collapsed": true
   },
   "outputs": [],
   "source": [
    "#-*- coding: utf-8 -*-\n",
    "\n",
    "from multiprocessing import Process\n",
    "\n",
    "from pandas import DataFrame\n",
    "from pymongo import MongoClient\n",
    "from firebase.firebase import FirebaseApplication"
   ]
  },
  {
   "cell_type": "code",
   "execution_count": 2,
   "metadata": {},
   "outputs": [
    {
     "data": {
      "text/plain": [
       "['admin', 'local', 'portal_transparencia']"
      ]
     },
     "execution_count": 2,
     "metadata": {},
     "output_type": "execute_result"
    }
   ],
   "source": [
    "connection = MongoClient('localhost', 27018)\n",
    "connection.database_names()"
   ]
  },
  {
   "cell_type": "code",
   "execution_count": 3,
   "metadata": {},
   "outputs": [
    {
     "data": {
      "text/plain": [
       "['dados_abertos']"
      ]
     },
     "execution_count": 3,
     "metadata": {},
     "output_type": "execute_result"
    }
   ],
   "source": [
    "db = connection['portal_transparencia']\n",
    "db.collection_names()"
   ]
  },
  {
   "cell_type": "code",
   "execution_count": 4,
   "metadata": {},
   "outputs": [
    {
     "data": {
      "text/plain": [
       "38994"
      ]
     },
     "execution_count": 4,
     "metadata": {},
     "output_type": "execute_result"
    }
   ],
   "source": [
    "collection = db['dados_abertos']\n",
    "collection.count()"
   ]
  },
  {
   "cell_type": "code",
   "execution_count": 5,
   "metadata": {
    "collapsed": true
   },
   "outputs": [],
   "source": [
    "cursor = collection.find({})"
   ]
  },
  {
   "cell_type": "code",
   "execution_count": 6,
   "metadata": {
    "collapsed": true
   },
   "outputs": [],
   "source": [
    "df = DataFrame(list(cursor))"
   ]
  },
  {
   "cell_type": "code",
   "execution_count": 27,
   "metadata": {
    "collapsed": true
   },
   "outputs": [],
   "source": [
    "# df_2017 = df[(df.ano.apply(int) == 2017)][['estado', 'municipio', 'acoes']]\n",
    "# df_2017.estado.drop_duplicates()"
   ]
  },
  {
   "cell_type": "code",
   "execution_count": 7,
   "metadata": {
    "collapsed": true
   },
   "outputs": [],
   "source": [
    "anos = df['ano'].drop_duplicates()\n",
    "estados = df['estado'].drop_duplicates()"
   ]
  },
  {
   "cell_type": "code",
   "execution_count": 8,
   "metadata": {
    "collapsed": true
   },
   "outputs": [],
   "source": [
    "anos = sorted(['2017','2016','2015'])\n",
    "estados = sorted(estados)\n",
    "\n",
    "estados.remove('TRANSFERÊNCIAS A ORGANISMOS MULTIGOVERNAMENTAIS')\n",
    "estados.remove('TRANSFERÊNCIAS AO EXTERIOR')"
   ]
  },
  {
   "cell_type": "code",
   "execution_count": 14,
   "metadata": {
    "collapsed": true
   },
   "outputs": [],
   "source": [
    "items = {}\n",
    "items['BRASIL'] = {}\n",
    "dict_items = {\n",
    "    'NORTE': ['ACRE', 'AMAZONAS', 'AMAPÁ', 'PARÁ', 'RONDÔNIA', 'RORAIMA', 'TOCANTINS'],\n",
    "    'NORDESTE': ['ALAGOAS', 'BAHIA', 'CEARÁ', 'MARANHÃO', 'PARAÍBA','PERNAMBUCO',\n",
    "                 'PIAUÍ', 'RIO GRANDE DO NORTE', 'SERGIPE'],\n",
    "    'CENTRO-OESTE': ['GOIÁS', 'MATO GROSSO DO SUL', 'MATO GROSSO'],\n",
    "    'SUDESTE': ['ESPÍRITO SANTO','MINAS GERAIS','RIO DE JANEIRO','SÃO PAULO'],\n",
    "    'SUL': ['PARANÁ','RIO GRANDE DO SUL','SANTA CATARINA']\n",
    "}\n",
    "\n",
    "regioes = ['NORTE','NORDESTE', 'CENTRO-OESTE', 'SUDESTE', 'SUL']\n",
    "\n",
    "all_datas = {}\n",
    "\n",
    "_item = {}\n",
    "for k in regioes:\n",
    "    _item[k] = {}\n",
    "\n",
    "\n",
    "for estado in estados:\n",
    "    for k in regioes:\n",
    "        if estado in dict_items[k]:\n",
    "            _item[k][estado] = {}\n",
    "            \n",
    "            \n",
    "for estado in estados:\n",
    "    for k in regioes:\n",
    "        if estado in dict_items[k]:\n",
    "            for ano in anos:\n",
    "                _item[k][estado][ano] = {}\n",
    "    \n",
    "for estado in estados:\n",
    "    for k in regioes:\n",
    "        if estado in dict_items[k]:\n",
    "            for ano in anos:\n",
    "                _municipios = sorted(df[(df.estado == estado) & (df.ano == ano)]['municipio'].drop_duplicates())\n",
    "                for municipio in _municipios:\n",
    "                    link_datas = \"-\".join(['BRASIL', k, estado, ano, municipio])\n",
    "                    _item[k][estado][ano][municipio] = link_datas\n",
    "                    all_datas[link_datas] = {}\n",
    "                    all_datas[link_datas]['DESPESAS'] = list(\n",
    "                        df[(df.estado == estado) & (df.municipio == municipio) & (df.ano == ano)]['acoes']\n",
    "                    ).pop()\n",
    "                    \n",
    "                items['BRASIL'].update(_item)\n",
    "\n",
    "# DB = {'estados': items}\n",
    "DB = items"
   ]
  },
  {
   "cell_type": "code",
   "execution_count": 15,
   "metadata": {
    "scrolled": false
   },
   "outputs": [
    {
     "name": "stderr",
     "output_type": "stream",
     "text": [
      "IOPub data rate exceeded.\n",
      "The notebook server will temporarily stop sending output\n",
      "to the client in order to avoid crashing it.\n",
      "To change this limit, set the config variable\n",
      "`--NotebookApp.iopub_data_rate_limit`.\n"
     ]
    }
   ],
   "source": [
    "DB"
   ]
  },
  {
   "cell_type": "code",
   "execution_count": 16,
   "metadata": {
    "collapsed": true
   },
   "outputs": [],
   "source": [
    "# Firebase Integration\n",
    "\n",
    "DSN = 'https://apptransparenciaeducativa.firebaseio.com/'\n",
    "\n",
    "authentication = None\n",
    "firebase = FirebaseApplication(DSN, authentication)"
   ]
  },
  {
   "cell_type": "code",
   "execution_count": 17,
   "metadata": {},
   "outputs": [
    {
     "name": "stderr",
     "output_type": "stream",
     "text": [
      "IOPub data rate exceeded.\n",
      "The notebook server will temporarily stop sending output\n",
      "to the client in order to avoid crashing it.\n",
      "To change this limit, set the config variable\n",
      "`--NotebookApp.iopub_data_rate_limit`.\n"
     ]
    }
   ],
   "source": [
    "firebase.patch('/', DB)"
   ]
  },
  {
   "cell_type": "code",
   "execution_count": 18,
   "metadata": {
    "collapsed": true
   },
   "outputs": [],
   "source": [
    "def firebase_patch(lista):\n",
    "    # Firebase Integration\n",
    "    DSN = 'https://apptransparenciaeducativa.firebaseio.com/'\n",
    "    authentication = None\n",
    "    firebase = FirebaseApplication(DSN, authentication)\n",
    "    firebase.patch(lista[0], lista[1])"
   ]
  },
  {
   "cell_type": "code",
   "execution_count": 23,
   "metadata": {},
   "outputs": [
    {
     "ename": "KeyboardInterrupt",
     "evalue": "",
     "output_type": "error",
     "traceback": [
      "\u001b[0;31m---------------------------------------------------------------------------\u001b[0m",
      "\u001b[0;31mKeyboardInterrupt\u001b[0m                         Traceback (most recent call last)",
      "\u001b[0;32m<ipython-input-23-3ba7309932e3>\u001b[0m in \u001b[0;36m<module>\u001b[0;34m()\u001b[0m\n\u001b[1;32m     10\u001b[0m                 \u001b[0;32mfor\u001b[0m \u001b[0mmunicipio\u001b[0m \u001b[0;32min\u001b[0m \u001b[0mmunicipios\u001b[0m\u001b[0;34m:\u001b[0m\u001b[0;34m\u001b[0m\u001b[0m\n\u001b[1;32m     11\u001b[0m                     list_acoes = list(\n\u001b[0;32m---> 12\u001b[0;31m                         \u001b[0mdf\u001b[0m\u001b[0;34m[\u001b[0m\u001b[0;34m(\u001b[0m\u001b[0mdf\u001b[0m\u001b[0;34m.\u001b[0m\u001b[0mestado\u001b[0m \u001b[0;34m==\u001b[0m \u001b[0mestado\u001b[0m\u001b[0;34m)\u001b[0m \u001b[0;34m&\u001b[0m \u001b[0;34m(\u001b[0m\u001b[0mdf\u001b[0m\u001b[0;34m.\u001b[0m\u001b[0mmunicipio\u001b[0m \u001b[0;34m==\u001b[0m \u001b[0mmunicipio\u001b[0m\u001b[0;34m)\u001b[0m \u001b[0;34m&\u001b[0m \u001b[0;34m(\u001b[0m\u001b[0mdf\u001b[0m\u001b[0;34m.\u001b[0m\u001b[0mano\u001b[0m \u001b[0;34m==\u001b[0m \u001b[0mano\u001b[0m\u001b[0;34m)\u001b[0m\u001b[0;34m]\u001b[0m\u001b[0;34m[\u001b[0m\u001b[0;34m'acoes'\u001b[0m\u001b[0;34m]\u001b[0m\u001b[0;34m\u001b[0m\u001b[0m\n\u001b[0m\u001b[1;32m     13\u001b[0m                     ).pop()\n\u001b[1;32m     14\u001b[0m \u001b[0;34m\u001b[0m\u001b[0m\n",
      "\u001b[0;32m~/.pyenv/versions/3.6.1/envs/portal_transparencia/lib/python3.6/site-packages/pandas/core/ops.py\u001b[0m in \u001b[0;36mwrapper\u001b[0;34m(self, other, axis)\u001b[0m\n\u001b[1;32m    859\u001b[0m \u001b[0;34m\u001b[0m\u001b[0m\n\u001b[1;32m    860\u001b[0m             \u001b[0;32mwith\u001b[0m \u001b[0mnp\u001b[0m\u001b[0;34m.\u001b[0m\u001b[0merrstate\u001b[0m\u001b[0;34m(\u001b[0m\u001b[0mall\u001b[0m\u001b[0;34m=\u001b[0m\u001b[0;34m'ignore'\u001b[0m\u001b[0;34m)\u001b[0m\u001b[0;34m:\u001b[0m\u001b[0;34m\u001b[0m\u001b[0m\n\u001b[0;32m--> 861\u001b[0;31m                 \u001b[0mres\u001b[0m \u001b[0;34m=\u001b[0m \u001b[0mna_op\u001b[0m\u001b[0;34m(\u001b[0m\u001b[0mvalues\u001b[0m\u001b[0;34m,\u001b[0m \u001b[0mother\u001b[0m\u001b[0;34m)\u001b[0m\u001b[0;34m\u001b[0m\u001b[0m\n\u001b[0m\u001b[1;32m    862\u001b[0m             \u001b[0;32mif\u001b[0m \u001b[0mis_scalar\u001b[0m\u001b[0;34m(\u001b[0m\u001b[0mres\u001b[0m\u001b[0;34m)\u001b[0m\u001b[0;34m:\u001b[0m\u001b[0;34m\u001b[0m\u001b[0m\n\u001b[1;32m    863\u001b[0m                 raise TypeError('Could not compare %s type with Series' %\n",
      "\u001b[0;32m~/.pyenv/versions/3.6.1/envs/portal_transparencia/lib/python3.6/site-packages/pandas/core/ops.py\u001b[0m in \u001b[0;36mna_op\u001b[0;34m(x, y)\u001b[0m\n\u001b[1;32m    763\u001b[0m \u001b[0;34m\u001b[0m\u001b[0m\n\u001b[1;32m    764\u001b[0m         \u001b[0;32mif\u001b[0m \u001b[0mis_object_dtype\u001b[0m\u001b[0;34m(\u001b[0m\u001b[0mx\u001b[0m\u001b[0;34m.\u001b[0m\u001b[0mdtype\u001b[0m\u001b[0;34m)\u001b[0m\u001b[0;34m:\u001b[0m\u001b[0;34m\u001b[0m\u001b[0m\n\u001b[0;32m--> 765\u001b[0;31m             \u001b[0mresult\u001b[0m \u001b[0;34m=\u001b[0m \u001b[0m_comp_method_OBJECT_ARRAY\u001b[0m\u001b[0;34m(\u001b[0m\u001b[0mop\u001b[0m\u001b[0;34m,\u001b[0m \u001b[0mx\u001b[0m\u001b[0;34m,\u001b[0m \u001b[0my\u001b[0m\u001b[0;34m)\u001b[0m\u001b[0;34m\u001b[0m\u001b[0m\n\u001b[0m\u001b[1;32m    766\u001b[0m         \u001b[0;32melse\u001b[0m\u001b[0;34m:\u001b[0m\u001b[0;34m\u001b[0m\u001b[0m\n\u001b[1;32m    767\u001b[0m \u001b[0;34m\u001b[0m\u001b[0m\n",
      "\u001b[0;32m~/.pyenv/versions/3.6.1/envs/portal_transparencia/lib/python3.6/site-packages/pandas/core/ops.py\u001b[0m in \u001b[0;36m_comp_method_OBJECT_ARRAY\u001b[0;34m(op, x, y)\u001b[0m\n\u001b[1;32m    743\u001b[0m         \u001b[0mresult\u001b[0m \u001b[0;34m=\u001b[0m \u001b[0mlib\u001b[0m\u001b[0;34m.\u001b[0m\u001b[0mvec_compare\u001b[0m\u001b[0;34m(\u001b[0m\u001b[0mx\u001b[0m\u001b[0;34m,\u001b[0m \u001b[0my\u001b[0m\u001b[0;34m,\u001b[0m \u001b[0mop\u001b[0m\u001b[0;34m)\u001b[0m\u001b[0;34m\u001b[0m\u001b[0m\n\u001b[1;32m    744\u001b[0m     \u001b[0;32melse\u001b[0m\u001b[0;34m:\u001b[0m\u001b[0;34m\u001b[0m\u001b[0m\n\u001b[0;32m--> 745\u001b[0;31m         \u001b[0mresult\u001b[0m \u001b[0;34m=\u001b[0m \u001b[0mlib\u001b[0m\u001b[0;34m.\u001b[0m\u001b[0mscalar_compare\u001b[0m\u001b[0;34m(\u001b[0m\u001b[0mx\u001b[0m\u001b[0;34m,\u001b[0m \u001b[0my\u001b[0m\u001b[0;34m,\u001b[0m \u001b[0mop\u001b[0m\u001b[0;34m)\u001b[0m\u001b[0;34m\u001b[0m\u001b[0m\n\u001b[0m\u001b[1;32m    746\u001b[0m     \u001b[0;32mreturn\u001b[0m \u001b[0mresult\u001b[0m\u001b[0;34m\u001b[0m\u001b[0m\n\u001b[1;32m    747\u001b[0m \u001b[0;34m\u001b[0m\u001b[0m\n",
      "\u001b[0;31mKeyboardInterrupt\u001b[0m: "
     ]
    }
   ],
   "source": [
    "OLD_DB = DB.copy()\n",
    "despesas = \"DESPESAS\"\n",
    "for pais in [\"BRASIL\"]:\n",
    "    for regiao in regioes:\n",
    "        estados = dict_items[regiao]\n",
    "        for estado in estados:\n",
    "            for ano in anos:\n",
    "                processos = []\n",
    "                municipios = OLD_DB[pais][regiao][estado][ano][despesas]\n",
    "                for municipio in municipios:                   \n",
    "                    list_acoes = list(\n",
    "                        df[(df.estado == estado) & (df.municipio == municipio) & (df.ano == ano)]['acoes']\n",
    "                    ).pop()\n",
    "\n",
    "                    _lista = [\"/\" + (\"/\".join([pais,regiao,estado,ano,despesas])), {'municipio':list_acoes}]\n",
    "                    processos.append(Process(target=firebase_patch, args=(_lista,)))\n",
    "                \n",
    "                while processos:\n",
    "                    p = processos.pop()\n",
    "                    p.start()\n",
    "                    p.join()\n",
    "                            "
   ]
  },
  {
   "cell_type": "code",
   "execution_count": null,
   "metadata": {
    "collapsed": true
   },
   "outputs": [],
   "source": []
  }
 ],
 "metadata": {
  "kernelspec": {
   "display_name": "Python 3",
   "language": "python",
   "name": "python3"
  },
  "language_info": {
   "codemirror_mode": {
    "name": "ipython",
    "version": 3
   },
   "file_extension": ".py",
   "mimetype": "text/x-python",
   "name": "python",
   "nbconvert_exporter": "python",
   "pygments_lexer": "ipython3",
   "version": "3.6.1"
  }
 },
 "nbformat": 4,
 "nbformat_minor": 2
}
