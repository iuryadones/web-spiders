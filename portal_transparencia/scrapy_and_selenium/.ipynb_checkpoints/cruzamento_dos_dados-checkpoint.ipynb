{
 "cells": [
  {
   "cell_type": "code",
   "execution_count": 1,
   "metadata": {
    "collapsed": true
   },
   "outputs": [],
   "source": [
    "#-*- coding: utf-8 -*-\n",
    "\n",
    "from multiprocessing import Process\n",
    "\n",
    "from pandas import DataFrame\n",
    "from pymongo import MongoClient\n",
    "from firebase.firebase import FirebaseApplication"
   ]
  },
  {
   "cell_type": "code",
   "execution_count": 2,
   "metadata": {},
   "outputs": [
    {
     "data": {
      "text/plain": [
       "['admin', 'local', 'portal_transparencia']"
      ]
     },
     "execution_count": 2,
     "metadata": {},
     "output_type": "execute_result"
    }
   ],
   "source": [
    "connection = MongoClient('localhost', 27018)\n",
    "connection.database_names()"
   ]
  },
  {
   "cell_type": "code",
   "execution_count": 3,
   "metadata": {},
   "outputs": [
    {
     "data": {
      "text/plain": [
       "['dados_abertos']"
      ]
     },
     "execution_count": 3,
     "metadata": {},
     "output_type": "execute_result"
    }
   ],
   "source": [
    "db = connection['portal_transparencia']\n",
    "db.collection_names()"
   ]
  },
  {
   "cell_type": "code",
   "execution_count": 4,
   "metadata": {},
   "outputs": [
    {
     "data": {
      "text/plain": [
       "38994"
      ]
     },
     "execution_count": 4,
     "metadata": {},
     "output_type": "execute_result"
    }
   ],
   "source": [
    "collection = db['dados_abertos']\n",
    "collection.count()"
   ]
  },
  {
   "cell_type": "code",
   "execution_count": 5,
   "metadata": {
    "collapsed": true
   },
   "outputs": [],
   "source": [
    "cursor = collection.find({})"
   ]
  },
  {
   "cell_type": "code",
   "execution_count": 6,
   "metadata": {
    "collapsed": true
   },
   "outputs": [],
   "source": [
    "df = DataFrame(list(cursor))"
   ]
  },
  {
   "cell_type": "code",
   "execution_count": 7,
   "metadata": {
    "collapsed": true
   },
   "outputs": [],
   "source": [
    "# df_2017 = df[(df.ano.apply(int) == 2017)][['estado', 'municipio', 'acoes']]\n",
    "# df_2017.estado.drop_duplicates()"
   ]
  },
  {
   "cell_type": "code",
   "execution_count": 8,
   "metadata": {
    "collapsed": true
   },
   "outputs": [],
   "source": [
    "anos = df['ano'].drop_duplicates()\n",
    "estados = df['estado'].drop_duplicates()"
   ]
  },
  {
   "cell_type": "code",
   "execution_count": 9,
   "metadata": {
    "collapsed": true
   },
   "outputs": [],
   "source": [
    "anos = sorted(anos)\n",
    "estados = sorted(estados)"
   ]
  },
  {
   "cell_type": "code",
   "execution_count": 10,
   "metadata": {
    "collapsed": true
   },
   "outputs": [],
   "source": [
    "items = []\n",
    "for estado in estados:\n",
    "    _item = {}\n",
    "    _item['estado'] = estado\n",
    "    _municipios = sorted(df[(df.estado == estado)]['municipio'].drop_duplicates())\n",
    "\n",
    "    municipios = []\n",
    "    for municipio in _municipios:\n",
    "        _mncp = {}\n",
    "        _mncp['municipio'] = municipio\n",
    "\n",
    "        municipios.append(_mncp)\n",
    "\n",
    "    _item['municipios'] = municipios\n",
    "    items.append(_item)\n",
    "\n",
    "DB = {'estados': items}"
   ]
  },
  {
   "cell_type": "code",
   "execution_count": 11,
   "metadata": {
    "collapsed": true,
    "scrolled": false
   },
   "outputs": [],
   "source": [
    "# DB"
   ]
  },
  {
   "cell_type": "code",
   "execution_count": 12,
   "metadata": {
    "collapsed": true
   },
   "outputs": [],
   "source": [
    "# Firebase Integration\n",
    "\n",
    "DSN = 'https://transparenciaeducativa-1e9ca.firebaseio.com'\n",
    "\n",
    "authentication = None\n",
    "firebase = FirebaseApplication(DSN, authentication)"
   ]
  },
  {
   "cell_type": "code",
   "execution_count": 13,
   "metadata": {},
   "outputs": [],
   "source": [
    "# firebase.patch('/', DB)"
   ]
  },
  {
   "cell_type": "code",
   "execution_count": 14,
   "metadata": {},
   "outputs": [],
   "source": [
    "# firebase.get('/',None)"
   ]
  },
  {
   "cell_type": "code",
   "execution_count": 15,
   "metadata": {},
   "outputs": [],
   "source": [
    "# firebase.get('/','estados/0')"
   ]
  },
  {
   "cell_type": "code",
   "execution_count": 16,
   "metadata": {},
   "outputs": [],
   "source": [
    "# firebase.get('/','estados/0/estado')"
   ]
  },
  {
   "cell_type": "code",
   "execution_count": 17,
   "metadata": {
    "scrolled": true
   },
   "outputs": [],
   "source": [
    "# firebase.get('/','estados/0/municipios')"
   ]
  },
  {
   "cell_type": "code",
   "execution_count": 18,
   "metadata": {},
   "outputs": [],
   "source": [
    "# firebase.get('/','estados/0/municipios/0')"
   ]
  },
  {
   "cell_type": "code",
   "execution_count": 19,
   "metadata": {
    "collapsed": true
   },
   "outputs": [],
   "source": [
    "# governo_investe_municipio = {}\n",
    "# governo_investe_municipio['despesas'] = {}\n",
    "# for ano in anos:\n",
    "#     acs = list(df[(df.estado == 'ACRE') & (df.municipio == 'ACRELANDIA') & (df.ano == ano)]['acoes'])\n",
    "#     if acs:\n",
    "#         governo_investe_municipio['despesas'][ano] = acs.pop()"
   ]
  },
  {
   "cell_type": "code",
   "execution_count": 20,
   "metadata": {},
   "outputs": [],
   "source": [
    "# governo_investe_municipio"
   ]
  },
  {
   "cell_type": "code",
   "execution_count": 21,
   "metadata": {},
   "outputs": [],
   "source": [
    "# firebase.patch('estados/0/municipios/0', governo_investe_municipio)"
   ]
  },
  {
   "cell_type": "code",
   "execution_count": 22,
   "metadata": {},
   "outputs": [],
   "source": [
    "# firebase.get('/','estados/0/municipios/0')"
   ]
  },
  {
   "cell_type": "code",
   "execution_count": 23,
   "metadata": {},
   "outputs": [],
   "source": [
    "# firebase.get('/','estados/0/municipios/0/despesas')"
   ]
  },
  {
   "cell_type": "code",
   "execution_count": 24,
   "metadata": {
    "collapsed": true
   },
   "outputs": [],
   "source": [
    "# firebase.get('/','estados/0/municipios/0/municipio')"
   ]
  },
  {
   "cell_type": "code",
   "execution_count": null,
   "metadata": {
    "collapsed": true
   },
   "outputs": [],
   "source": [
    "def firebase_patch(lista):\n",
    "    firebase.patch(lista[0],lista[1])"
   ]
  },
  {
   "cell_type": "code",
   "execution_count": null,
   "metadata": {
    "collapsed": true
   },
   "outputs": [],
   "source": [
    "for i, estado in enumerate(estados):\n",
    "    _municipios = sorted(df[(df.estado == estado)]['municipio'].drop_duplicates())\n",
    "    for j, municipio in enumerate(_municipios):\n",
    "        governo_investe_municipio = {}\n",
    "        governo_investe_municipio['despesas'] = {}\n",
    "        processos = []\n",
    "        for ano in anos:\n",
    "            acs = list(df[(df.estado == estado) & (df.municipio == municipio) & (df.ano == ano)]['acoes'])\n",
    "            if acs:\n",
    "                governo_investe_municipio['despesas'][ano] = acs.pop()\n",
    "            _lista = ['estados/{e}/municipios/{m}'.format(e=i,m=j), governo_investe_municipio]\n",
    "            processos.append(Process(target=firebase_patch, args=(_lista,)))\n",
    "        for p in processos:\n",
    "            p.start()\n",
    "        for p in processos:\n",
    "            p.join()"
   ]
  },
  {
   "cell_type": "code",
   "execution_count": null,
   "metadata": {
    "collapsed": true
   },
   "outputs": [],
   "source": []
  }
 ],
 "metadata": {
  "kernelspec": {
   "display_name": "Python 3",
   "language": "python",
   "name": "python3"
  },
  "language_info": {
   "codemirror_mode": {
    "name": "ipython",
    "version": 3
   },
   "file_extension": ".py",
   "mimetype": "text/x-python",
   "name": "python",
   "nbconvert_exporter": "python",
   "pygments_lexer": "ipython3",
   "version": "3.6.1"
  }
 },
 "nbformat": 4,
 "nbformat_minor": 2
}
